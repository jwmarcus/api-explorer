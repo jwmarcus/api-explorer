{
 "cells": [
  {
   "cell_type": "markdown",
   "metadata": {},
   "source": [
    "# GitHub target account project parsing"
   ]
  },
  {
   "cell_type": "markdown",
   "metadata": {},
   "source": [
    "Import the proper libraries:"
   ]
  },
  {
   "cell_type": "code",
   "execution_count": null,
   "metadata": {},
   "outputs": [],
   "source": [
    "import pandas as pd\n",
    "import urllib3\n",
    "\n",
    "import json, time, os"
   ]
  },
  {
   "cell_type": "markdown",
   "metadata": {},
   "source": [
    "Setup connection pooling"
   ]
  },
  {
   "cell_type": "code",
   "execution_count": null,
   "metadata": {},
   "outputs": [],
   "source": [
    "http = urllib3.PoolManager()"
   ]
  },
  {
   "cell_type": "markdown",
   "metadata": {},
   "source": [
    "You must pass headers to the API (no base browsing). Also set the $GITHUB_OAUTH_KEY."
   ]
  },
  {
   "cell_type": "code",
   "execution_count": null,
   "metadata": {},
   "outputs": [],
   "source": [
    "headers = {\n",
    "    \"Accept\": \"application/vnd.github.squirrel-girl-preview+json\",\n",
    "    \"User-Agent\": \"jwmarcus\",\n",
    "    \"Authorization\": f\"token {os.getenv('GITHUB_OAUTH_KEY')}\"\n",
    "}"
   ]
  },
  {
   "cell_type": "markdown",
   "metadata": {},
   "source": [
    "Define the org we want to parse, and get all the repos. Note: This works with orgs up to 100 repos. You will need to implement paging for larger orgs."
   ]
  },
  {
   "cell_type": "code",
   "execution_count": null,
   "metadata": {},
   "outputs": [],
   "source": [
    "owner = \"venmo\"\n",
    "endpoint = f\"orgs/{owner}/repos?per_page=100\""
   ]
  },
  {
   "cell_type": "markdown",
   "metadata": {},
   "source": [
    "Call API and save results as JSON for later"
   ]
  },
  {
   "cell_type": "code",
   "execution_count": null,
   "metadata": {},
   "outputs": [],
   "source": [
    "if os.path.exists(\"results.json\"):\n",
    "    # Don't keep banging on the API if you don't need to\n",
    "    print(\"INFO: Data exists! Delete results.json to pull fresh data\")\n",
    "\n",
    "else:\n",
    "    r = http.request(\"GET\", f\"https://api.github.com/{endpoint}\", headers=headers)\n",
    "\n",
    "    if r.status == 200:\n",
    "        res = json.loads(r.data.decode(\"utf-8\"))\n",
    "        print(\"INFO: Saving json response\")\n",
    "\n",
    "        with open(\"results.json\", \"w\") as json_file:\n",
    "            json.dump(res, json_file)\n",
    "            print(\"INFO: json export complete\")\n",
    "    else:\n",
    "        print(r.data)\n",
    "        print(r.status)"
   ]
  },
  {
   "cell_type": "markdown",
   "metadata": {},
   "source": [
    "Import GitHub JSON dataset"
   ]
  },
  {
   "cell_type": "code",
   "execution_count": null,
   "metadata": {},
   "outputs": [],
   "source": [
    "df = pd.read_json(\"./results.json\")"
   ]
  },
  {
   "cell_type": "markdown",
   "metadata": {},
   "source": [
    "Get just the repos that are _not_forks."
   ]
  },
  {
   "cell_type": "code",
   "execution_count": null,
   "metadata": {},
   "outputs": [],
   "source": [
    "source_repos = df[df[\"fork\"] == False]"
   ]
  },
  {
   "cell_type": "markdown",
   "metadata": {},
   "source": [
    "Get the urls of the contributors pages"
   ]
  },
  {
   "cell_type": "code",
   "execution_count": null,
   "metadata": {},
   "outputs": [],
   "source": [
    "# https://api.github.com/repos/{team-name}/{repo-name}/contributors\n",
    "\n",
    "contrib_urls = source_repos[\"contributors_url\"].tolist()"
   ]
  },
  {
   "cell_type": "markdown",
   "metadata": {},
   "source": [
    "Call each endpoint and save usernames of contributors"
   ]
  },
  {
   "cell_type": "code",
   "execution_count": null,
   "metadata": {},
   "outputs": [],
   "source": [
    "users = {}\n",
    "\n",
    "for url in contrib_urls:\n",
    "    # print(f\"INFO: Getting {url}?per_page=100\")\n",
    "    r = http.request(\"GET\", f\"{url}?per_page=100\", headers=headers)\n",
    "\n",
    "    if r.status == 200:\n",
    "        res = json.loads(r.data.decode(\"utf-8\"))\n",
    "        \n",
    "        for user in res:\n",
    "            num_contribs, repo_count = users.get(user[\"html_url\"], (0,0)) \n",
    "            \n",
    "            users[user[\"html_url\"]] = (num_contribs + user[\"contributions\"],\n",
    "                                       repo_count + 1)\n",
    "        \n",
    "    else:\n",
    "        print(r.status, r. headers)\n",
    "    \n",
    "    # Don't get rate limited\n",
    "    time.sleep(0.25)\n",
    "\n",
    "with open(\"contributors.json\", \"w\") as f_contributors:\n",
    "    json.dump(users, f_contributors)\n",
    "    print(\"INFO: json export complete\")"
   ]
  },
  {
   "cell_type": "markdown",
   "metadata": {},
   "source": [
    "Reload the saved JSON"
   ]
  },
  {
   "cell_type": "code",
   "execution_count": null,
   "metadata": {},
   "outputs": [],
   "source": [
    "df2 = pd.read_json(\"./contributors.json\")"
   ]
  },
  {
   "cell_type": "markdown",
   "metadata": {},
   "source": [
    "Sort the data, first by key, then by contributions, then by repositories touched, grab the top 20."
   ]
  },
  {
   "cell_type": "code",
   "execution_count": null,
   "metadata": {},
   "outputs": [],
   "source": [
    "df2.transpose().sort_index().sort_values([0,1], ascending=False).rename(columns={0: \"Contributions\", 1: \"Repos\"})[:20]"
   ]
  }
 ],
 "metadata": {
  "kernelspec": {
   "display_name": "Python 3",
   "language": "python",
   "name": "python3"
  },
  "language_info": {
   "codemirror_mode": {
    "name": "ipython",
    "version": 3
   },
   "file_extension": ".py",
   "mimetype": "text/x-python",
   "name": "python",
   "nbconvert_exporter": "python",
   "pygments_lexer": "ipython3",
   "version": "3.8.1"
  }
 },
 "nbformat": 4,
 "nbformat_minor": 4
}
